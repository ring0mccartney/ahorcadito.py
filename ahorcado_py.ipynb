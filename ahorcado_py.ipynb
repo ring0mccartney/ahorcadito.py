{
  "nbformat": 4,
  "nbformat_minor": 0,
  "metadata": {
    "colab": {
      "provenance": [],
      "authorship_tag": "ABX9TyMM2o9lr0B3eL3azanVR/ib",
      "include_colab_link": true
    },
    "kernelspec": {
      "name": "python3",
      "display_name": "Python 3"
    },
    "language_info": {
      "name": "python"
    }
  },
  "cells": [
    {
      "cell_type": "markdown",
      "metadata": {
        "id": "view-in-github",
        "colab_type": "text"
      },
      "source": [
        "<a href=\"https://colab.research.google.com/github/ring0mccartney/ahorcadito.py/blob/main/ahorcado_py.ipynb\" target=\"_parent\"><img src=\"https://colab.research.google.com/assets/colab-badge.svg\" alt=\"Open In Colab\"/></a>"
      ]
    },
    {
      "cell_type": "code",
      "execution_count": null,
      "metadata": {
        "id": "BCrlQn45AvdT"
      },
      "outputs": [],
      "source": [
        "import random\n",
        "\n",
        "def jugar_ahorcado():\n",
        "    palabras = [\"manzana\", \"banana\", \"cereza\", \"datil\", \"uva\", \"kiwi\", \"limon\", \"mango\", \"naranja\", \"pera\"]\n",
        "    palabra_secreta = random.choice(palabras)\n",
        "    letras_adivinadas = set()\n",
        "    intentos_restantes = 6\n",
        "\n",
        "    def mostrar_tablero():\n",
        "        display = \"\"\n",
        "        for letra in palabra_secreta:\n",
        "            if letra in letras_adivinadas:\n",
        "                display += letra + \" \"\n",
        "            else:\n",
        "                display += \"_ \"\n",
        "        print(\"\\nPalabra: \" + display)\n",
        "        print(\"Letras adivinadas: \" + \", \".join(sorted(list(letras_adivinadas))))\n",
        "        print(f\"Intentos restantes: {intentos_restantes}\")\n",
        "\n",
        "    while intentos_restantes > 0:\n",
        "        mostrar_tablero()\n",
        "\n",
        "        if all(letra in letras_adivinadas for letra in palabra_secreta):\n",
        "            print(\"\\n¡Felicidades! ¡Adivinaste la palabra:\", palabra_secreta + \"!\")\n",
        "            break\n",
        "\n",
        "        intento = input(\"Ingresa una letra: \").lower()\n",
        "\n",
        "        if len(intento) != 1 or not intento.isalpha():\n",
        "            print(\"Por favor, ingresa una única letra válida.\")\n",
        "            continue\n",
        "\n",
        "        if intento in letras_adivinadas:\n",
        "            print(\"Ya intentaste esa letra. Intenta con otra.\")\n",
        "            continue\n",
        "\n",
        "        letras_adivinadas.add(intento)\n",
        "\n",
        "        if intento not in palabra_secreta:\n",
        "            intentos_restantes -= 1\n",
        "            print(\"Letra incorrecta.\")\n",
        "\n",
        "    else:\n",
        "        mostrar_tablero()\n",
        "        print(\"\\n¡Perdiste! La palabra era:\", palabra_secreta)\n",
        "\n",
        "if __name__ == \"__main__\":\n",
        "    jugar_ahorcado()"
      ]
    }
  ]
}